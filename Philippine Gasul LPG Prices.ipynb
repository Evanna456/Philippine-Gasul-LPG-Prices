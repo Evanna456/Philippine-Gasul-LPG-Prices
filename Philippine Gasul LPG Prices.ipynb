{
 "cells": [
  {
   "cell_type": "markdown",
   "id": "9fa86cf6",
   "metadata": {},
   "source": [
    "Data Source:\n",
    " \n",
    "<ul>\n",
    "<li>https://www.doe.gov.ph/lpg-auto-lpg-prices-metro-manila</li>\n",
    "<li>https://www.doe.gov.ph/lpg-auto-lpg-prices-visayas</li>\n",
    "<li>https://www.doe.gov.ph/lpg-auto-lpg-prices-mindanao</li>\n",
    "</ul>"
   ]
  },
  {
   "cell_type": "code",
   "execution_count": 2,
   "id": "6956dea1",
   "metadata": {},
   "outputs": [
    {
     "data": {
      "text/html": [
       "\n",
       "<style>\n",
       "    div.output_scroll {height:100%}\n",
       "</style>\n"
      ],
      "text/plain": [
       "<IPython.core.display.HTML object>"
      ]
     },
     "metadata": {},
     "output_type": "display_data"
    }
   ],
   "source": [
    "import pandas as pd\n",
    "import numpy as np\n",
    "import matplotlib.pyplot as plt\n",
    "import plotly.express as px\n",
    "import plotly.graph_objects as go\n",
    "from plotly.subplots import make_subplots\n",
    "import datetime as dt\n",
    "pd.set_option('display.max_columns', None)\n",
    "%matplotlib inline\n",
    "\n",
    "from IPython.display import display, HTML\n",
    "\n",
    "display(HTML(data=\"\"\"\n",
    "<style>\n",
    "    div.output_scroll {height:100%}\n",
    "</style>\n",
    "\"\"\"))"
   ]
  },
  {
   "cell_type": "code",
   "execution_count": 3,
   "id": "f0294976",
   "metadata": {},
   "outputs": [],
   "source": [
    "manila = pd.read_csv(\"./data/Manila.csv\").dropna()\n",
    "cebu = pd.read_csv(\"./data/Cebu.csv\").dropna()\n",
    "iligan = pd.read_csv(\"./data/Iligan.csv\").dropna()\n",
    "davao = pd.read_csv(\"./data/Davao.csv\").dropna()"
   ]
  },
  {
   "cell_type": "code",
   "execution_count": 4,
   "id": "85451b56",
   "metadata": {},
   "outputs": [
    {
     "data": {
      "text/html": [
       "<div>\n",
       "<style scoped>\n",
       "    .dataframe tbody tr th:only-of-type {\n",
       "        vertical-align: middle;\n",
       "    }\n",
       "\n",
       "    .dataframe tbody tr th {\n",
       "        vertical-align: top;\n",
       "    }\n",
       "\n",
       "    .dataframe thead th {\n",
       "        text-align: right;\n",
       "    }\n",
       "</style>\n",
       "<table border=\"1\" class=\"dataframe\">\n",
       "  <thead>\n",
       "    <tr style=\"text-align: right;\">\n",
       "      <th></th>\n",
       "      <th>Date_Manila</th>\n",
       "      <th>Kilo_Manila</th>\n",
       "      <th>Price_Manila</th>\n",
       "      <th>Date_Cebu</th>\n",
       "      <th>Kilo_Cebu</th>\n",
       "      <th>Price_Cebu</th>\n",
       "      <th>Date_Iligan</th>\n",
       "      <th>Kilo_Iligan</th>\n",
       "      <th>Price_Iligan</th>\n",
       "      <th>Date_Davao</th>\n",
       "      <th>Kilo_Davao</th>\n",
       "      <th>Price_Davao</th>\n",
       "    </tr>\n",
       "  </thead>\n",
       "  <tbody>\n",
       "    <tr>\n",
       "      <th>0</th>\n",
       "      <td>1/16/2023</td>\n",
       "      <td>11.0</td>\n",
       "      <td>914.0</td>\n",
       "      <td>1/3/2023</td>\n",
       "      <td>11</td>\n",
       "      <td>1099.0</td>\n",
       "      <td>1/3/2023</td>\n",
       "      <td>11</td>\n",
       "      <td>1009</td>\n",
       "      <td>1/3/2023</td>\n",
       "      <td>11</td>\n",
       "      <td>1022.0</td>\n",
       "    </tr>\n",
       "    <tr>\n",
       "      <th>1</th>\n",
       "      <td>2/8/2023</td>\n",
       "      <td>11.0</td>\n",
       "      <td>1037.0</td>\n",
       "      <td>2/7/2023</td>\n",
       "      <td>11</td>\n",
       "      <td>1135.0</td>\n",
       "      <td>2/6/2023</td>\n",
       "      <td>11</td>\n",
       "      <td>1133</td>\n",
       "      <td>2/6/2023</td>\n",
       "      <td>11</td>\n",
       "      <td>1155.0</td>\n",
       "    </tr>\n",
       "    <tr>\n",
       "      <th>2</th>\n",
       "      <td>NaN</td>\n",
       "      <td>NaN</td>\n",
       "      <td>NaN</td>\n",
       "      <td>3/7/2023</td>\n",
       "      <td>11</td>\n",
       "      <td>1087.0</td>\n",
       "      <td>3/6/2023</td>\n",
       "      <td>11</td>\n",
       "      <td>1095</td>\n",
       "      <td>3/6/2023</td>\n",
       "      <td>11</td>\n",
       "      <td>1117.0</td>\n",
       "    </tr>\n",
       "  </tbody>\n",
       "</table>\n",
       "</div>"
      ],
      "text/plain": [
       "  Date_Manila  Kilo_Manila  Price_Manila Date_Cebu  Kilo_Cebu  Price_Cebu  \\\n",
       "0   1/16/2023         11.0         914.0  1/3/2023         11      1099.0   \n",
       "1    2/8/2023         11.0        1037.0  2/7/2023         11      1135.0   \n",
       "2         NaN          NaN           NaN  3/7/2023         11      1087.0   \n",
       "\n",
       "  Date_Iligan  Kilo_Iligan  Price_Iligan Date_Davao  Kilo_Davao  Price_Davao  \n",
       "0    1/3/2023           11          1009   1/3/2023          11       1022.0  \n",
       "1    2/6/2023           11          1133   2/6/2023          11       1155.0  \n",
       "2    3/6/2023           11          1095   3/6/2023          11       1117.0  "
      ]
     },
     "execution_count": 4,
     "metadata": {},
     "output_type": "execute_result"
    }
   ],
   "source": [
    "manila_cebu = manila.join(cebu,how='right',lsuffix='_Manila', rsuffix='_Cebu')\n",
    "iligan_davao = iligan.join(davao,how='left',lsuffix='_Iligan', rsuffix='_Davao')\n",
    "df = manila_cebu.join(iligan_davao,how='left')\n",
    "df"
   ]
  },
  {
   "cell_type": "code",
   "execution_count": null,
   "id": "69a9ab7e",
   "metadata": {},
   "outputs": [],
   "source": []
  }
 ],
 "metadata": {
  "kernelspec": {
   "display_name": "Python 3 (ipykernel)",
   "language": "python",
   "name": "python3"
  },
  "language_info": {
   "codemirror_mode": {
    "name": "ipython",
    "version": 3
   },
   "file_extension": ".py",
   "mimetype": "text/x-python",
   "name": "python",
   "nbconvert_exporter": "python",
   "pygments_lexer": "ipython3",
   "version": "3.11.2"
  },
  "widgets": {
   "application/vnd.jupyter.widget-state+json": {
    "state": {},
    "version_major": 2,
    "version_minor": 0
   }
  }
 },
 "nbformat": 4,
 "nbformat_minor": 5
}
